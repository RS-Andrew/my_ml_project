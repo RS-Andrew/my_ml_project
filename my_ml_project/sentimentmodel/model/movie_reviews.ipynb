{
 "cells": [
  {
   "cell_type": "code",
   "execution_count": 1,
   "id": "cfc1f1f8",
   "metadata": {
    "scrolled": true
   },
   "outputs": [],
   "source": [
    "import pandas as pd\n",
    "import numpy as np\n",
    "import codecs\n",
    "import spacy\n",
    "import re\n",
    "import nltk\n",
    "import joblib\n",
    "import random\n",
    "\n",
    "#from spacy.training.example import Example\n",
    "\n",
    "from collections import defaultdict\n",
    "from pathlib import Path\n",
    "\n",
    "from sklearn.feature_extraction.text import TfidfVectorizer\n",
    "\n",
    "from nltk.corpus import stopwords\n",
    "\n",
    "#from sklearn.model_selection import train_test_split\n",
    "from sklearn.model_selection import GridSearchCV\n",
    "\n",
    "from sklearn.linear_model import LogisticRegression\n",
    "from sklearn.ensemble import RandomForestClassifier\n",
    "from sklearn.linear_model import SGDClassifier\n",
    "\n",
    "from sklearn.metrics import f1_score\n",
    "from sklearn.metrics import classification_report"
   ]
  },
  {
   "cell_type": "code",
   "execution_count": 2,
   "id": "7b0f4fae",
   "metadata": {},
   "outputs": [],
   "source": [
    "def df_upload (df, path):\n",
    "    results = defaultdict(list)\n",
    "    for file in Path(path).iterdir():\n",
    "        with codecs.open(file, \"r\", \"utf-8\") as file_open:\n",
    "            results[\"file_name\"].append(file.name)\n",
    "            results[\"text\"].append(file_open.read())\n",
    "        df = pd.DataFrame(results)\n",
    "    return df"
   ]
  },
  {
   "cell_type": "code",
   "execution_count": 3,
   "id": "c6397b6e",
   "metadata": {},
   "outputs": [],
   "source": [
    "df_test_neg, df_test_pos, df_train_neg, df_train_pos = pd.DataFrame(), pd.DataFrame(), pd.DataFrame(), pd.DataFrame()\n",
    "df_test_neg = df_upload (df_test_neg, \"D:/Хаклаб/ML разработка/aclImdb/test/neg\")\n",
    "df_test_pos = df_upload (df_test_pos, \"D:/Хаклаб/ML разработка/aclImdb/test/pos\")\n",
    "df_train_neg = df_upload (df_train_neg, \"D:/Хаклаб/ML разработка/aclImdb/train/neg\")\n",
    "df_train_pos = df_upload (df_train_pos, \"D:/Хаклаб/ML разработка/aclImdb/train/pos\")"
   ]
  },
  {
   "cell_type": "code",
   "execution_count": 4,
   "id": "0b6197f0",
   "metadata": {},
   "outputs": [],
   "source": [
    "df_test_neg['is_pos'], df_train_neg['is_pos'] = 0, 0\n",
    "df_test_pos['is_pos'], df_train_pos['is_pos'] = 1, 1"
   ]
  },
  {
   "cell_type": "code",
   "execution_count": 5,
   "id": "edeea773",
   "metadata": {},
   "outputs": [
    {
     "name": "stdout",
     "output_type": "stream",
     "text": [
      "     file_name                                               text  is_pos\n",
      "0      0_2.txt  Once again Mr. Costner has dragged out a movie...       0\n",
      "1  10000_4.txt  This is an example of why the majority of acti...       0\n",
      "2  10001_1.txt  First of all I hate those moronic rappers, who...       0\n",
      "3  10002_3.txt  Not even the Beatles could write songs everyon...       0\n",
      "4  10003_3.txt  Brass pictures (movies is not a fitting word f...       0\n",
      "     file_name                                               text  is_pos\n",
      "0     0_10.txt  I went and saw this movie last night after bei...       1\n",
      "1  10000_7.txt  Actor turned director Bill Paxton follows up h...       1\n",
      "2  10001_9.txt  As a recreational golfer with some knowledge o...       1\n",
      "3  10002_8.txt  I saw this film in a sneak preview, and it is ...       1\n",
      "4  10003_8.txt  Bill Paxton has taken the true story of the 19...       1\n",
      "     file_name                                               text  is_pos\n",
      "0      0_3.txt  Story of a man who has unnatural feelings for ...       0\n",
      "1  10000_4.txt  Airport '77 starts as a brand new luxury 747 p...       0\n",
      "2  10001_4.txt  This film lacked something I couldn't put my f...       0\n",
      "3  10002_1.txt  Sorry everyone,,, I know this is supposed to b...       0\n",
      "4  10003_1.txt  When I was little my parents took me along to ...       0\n",
      "      file_name                                               text  is_pos\n",
      "0       0_9.txt  Bromwell High is a cartoon comedy. It ran at t...       1\n",
      "1   10000_8.txt  Homelessness (or Houselessness as George Carli...       1\n",
      "2  10001_10.txt  Brilliant over-acting by Lesley Ann Warren. Be...       1\n",
      "3   10002_7.txt  This is easily the most underrated film inn th...       1\n",
      "4   10003_8.txt  This is not the typical Mel Brooks film. It wa...       1\n"
     ]
    }
   ],
   "source": [
    "print (df_test_neg.head())\n",
    "print (df_test_pos.head())\n",
    "print (df_train_neg.head())\n",
    "print (df_train_pos.head())"
   ]
  },
  {
   "cell_type": "code",
   "execution_count": 43,
   "id": "ef0fdc4b",
   "metadata": {},
   "outputs": [
    {
     "name": "stdout",
     "output_type": "stream",
     "text": [
      "     file_name                                               text  is_pos\n",
      "0   3195_3.txt  Two qualifiers right up front: I actually thin...       0\n",
      "1   2942_1.txt  This is hands down the worst movie of all time...       0\n",
      "2   5812_4.txt  \"This story is dedicated to women,\" according ...       0\n",
      "3   2236_9.txt  The thing I remember most about this film is t...       1\n",
      "4  11196_7.txt  'One-Round' Jack Sander is called that because...       1     file_name                                               text  is_pos\n",
      "0  7511_7.txt  this movie is funny funny funny my favorite qu...       1\n",
      "1  4662_1.txt  Being an unrelenting non-stop over-the-top exp...       0\n",
      "2  6112_8.txt  I was first introduced to John Waters films by...       1\n",
      "3  6983_4.txt  Yeah, I know his character was supposed to be ...       0\n",
      "4  8941_3.txt  As much as I love trains, I couldn't stomach t...       0\n"
     ]
    }
   ],
   "source": [
    "df_train = pd.DataFrame()\n",
    "df_test = pd.DataFrame()\n",
    "\n",
    "df_train = pd.concat ([df_train_neg, df_train_pos], sort=False, axis=0)\n",
    "df_test = pd.concat ([df_test_neg, df_test_pos], sort=False, axis=0)\n",
    "\n",
    "df_train = df_train.sample(frac=1).reset_index(drop=True)\n",
    "df_test = df_test.sample(frac=1).reset_index(drop=True)\n",
    "\n",
    "print(df_train.head(), df_test.head())"
   ]
  },
  {
   "cell_type": "markdown",
   "id": "b049426f",
   "metadata": {},
   "source": [
    "Таким образом мы подготовили датафреймы для обучения и теста моделей. Далее необходимо привести слова к леммам."
   ]
  },
  {
   "cell_type": "code",
   "execution_count": 7,
   "id": "1bb125b1",
   "metadata": {
    "scrolled": false
   },
   "outputs": [
    {
     "data": {
      "text/plain": [
       "<bound method DataFrame.info of          file_name                                               text  is_pos\n",
       "0       1348_3.txt  this animated Inspector Gadget movie is pretty...       0\n",
       "1      11523_7.txt  This is one of the funniest movies I have seen...       1\n",
       "2       8569_9.txt  This is just as good as the original 101 if no...       1\n",
       "3       1675_9.txt  Sergio Martino has impressed me recently with ...       1\n",
       "4      11256_1.txt  What a waste of time! I've tried to sit throug...       0\n",
       "...            ...                                                ...     ...\n",
       "24995   1639_1.txt  \"Whipped\" is 82 minutes long. This review is 8...       0\n",
       "24996  7740_10.txt  It is rare that one comes across a movie as fl...       1\n",
       "24997   4090_3.txt  Shlock-merchant Leo Fulci takes a change of pa...       0\n",
       "24998   4746_8.txt  This film appears to draw a borderline - on on...       1\n",
       "24999  1893_10.txt  Although it's most certainly politically incor...       1\n",
       "\n",
       "[25000 rows x 3 columns]>"
      ]
     },
     "execution_count": 7,
     "metadata": {},
     "output_type": "execute_result"
    }
   ],
   "source": [
    "df_train.info"
   ]
  },
  {
   "cell_type": "code",
   "execution_count": 8,
   "id": "8a9dc509",
   "metadata": {},
   "outputs": [
    {
     "name": "stderr",
     "output_type": "stream",
     "text": [
      "C:\\Users\\zmeis\\AppData\\Roaming\\Python\\Python39\\site-packages\\spacy\\util.py:275: UserWarning: [W031] Model 'en_core_web_sm' (2.2.5) requires spaCy v2.2 and is incompatible with the current spaCy version (2.3.5). This may lead to unexpected results or runtime errors. To resolve this, download a newer compatible model or retrain your custom model with the current spaCy version. For more details and available updates, run: python -m spacy validate\n",
      "  warnings.warn(warn_msg)\n"
     ]
    }
   ],
   "source": [
    "nlp = spacy.load('en_core_web_sm', disable=['parser', 'ner'])"
   ]
  },
  {
   "cell_type": "code",
   "execution_count": 9,
   "id": "8f01799e",
   "metadata": {},
   "outputs": [],
   "source": [
    "def lemmatize_text(text):    \n",
    "    text = text.lower()\n",
    "    doc = nlp(text)\n",
    "    return \" \".join([token.lemma_ for token in doc])"
   ]
  },
  {
   "cell_type": "code",
   "execution_count": 44,
   "id": "63e2ad03",
   "metadata": {},
   "outputs": [
    {
     "name": "stdout",
     "output_type": "stream",
     "text": [
      "CPU times: total: 9min 54s\n",
      "Wall time: 9min 55s\n"
     ]
    }
   ],
   "source": [
    "%%time\n",
    "df_train['text'] = df_train['text'].apply(lemmatize_text)\n",
    "df_test['text'] = df_test['text'].apply(lemmatize_text)"
   ]
  },
  {
   "cell_type": "markdown",
   "id": "c5d1a9b1",
   "metadata": {},
   "source": [
    "Лемматизация проведена. Далее обозначим признаки."
   ]
  },
  {
   "cell_type": "code",
   "execution_count": 45,
   "id": "95dec90e",
   "metadata": {},
   "outputs": [],
   "source": [
    "target_train = df_train['is_pos']\n",
    "features_train = df_train.drop(['file_name', 'is_pos'], axis=1)\n",
    "\n",
    "target_test = df_test['is_pos']\n",
    "features_test = df_test.drop(['file_name', 'is_pos'], axis=1)"
   ]
  },
  {
   "cell_type": "markdown",
   "id": "6f76b97f",
   "metadata": {},
   "source": [
    "Создадим матрицу TFIDF и применим TfidfVectorizer"
   ]
  },
  {
   "cell_type": "code",
   "execution_count": 12,
   "id": "0fb6a827",
   "metadata": {},
   "outputs": [
    {
     "name": "stderr",
     "output_type": "stream",
     "text": [
      "[nltk_data] Downloading package stopwords to\n",
      "[nltk_data]     C:\\Users\\zmeis\\AppData\\Roaming\\nltk_data...\n",
      "[nltk_data]   Package stopwords is already up-to-date!\n"
     ]
    }
   ],
   "source": [
    "nltk.download('stopwords')\n",
    "stopwords = set(stopwords.words('english'))"
   ]
  },
  {
   "cell_type": "code",
   "execution_count": 46,
   "id": "126c6da5",
   "metadata": {},
   "outputs": [],
   "source": [
    "count_tf_idf = TfidfVectorizer(stop_words=stopwords)\n",
    "vect = count_tf_idf.fit(features_train['text'].values) #learn vectorizer on train features"
   ]
  },
  {
   "cell_type": "code",
   "execution_count": 47,
   "id": "42225211",
   "metadata": {},
   "outputs": [],
   "source": [
    "features_train = vect.transform(features_train['text'].values)\n",
    "features_test = vect.transform(features_test['text'].values)"
   ]
  },
  {
   "cell_type": "markdown",
   "id": "745b4bef",
   "metadata": {},
   "source": [
    "Теперь можно пробовать подбирать модели машинного обучения. Начнем с логистической регрессии."
   ]
  },
  {
   "cell_type": "code",
   "execution_count": 15,
   "id": "4a5764a6",
   "metadata": {},
   "outputs": [],
   "source": [
    "log_reg = LogisticRegression(class_weight='balanced').fit(features_train, target_train)"
   ]
  },
  {
   "cell_type": "code",
   "execution_count": 16,
   "id": "60e1cd08",
   "metadata": {},
   "outputs": [
    {
     "name": "stdout",
     "output_type": "stream",
     "text": [
      "0.8779222851671586\n"
     ]
    }
   ],
   "source": [
    "print(f1_score(target_test, log_reg.predict(features_test)))"
   ]
  },
  {
   "cell_type": "markdown",
   "id": "f6e4e2ad",
   "metadata": {},
   "source": [
    "Рандомный лес."
   ]
  },
  {
   "cell_type": "code",
   "execution_count": 17,
   "id": "57a674a8",
   "metadata": {},
   "outputs": [],
   "source": [
    "parametrs = { 'n_estimators': range (10, 51, 10),\n",
    "              'max_depth': range (1,10, 2)}"
   ]
  },
  {
   "cell_type": "code",
   "execution_count": 18,
   "id": "a812340d",
   "metadata": {},
   "outputs": [],
   "source": [
    "rfc = RandomForestClassifier(random_state=12345)"
   ]
  },
  {
   "cell_type": "code",
   "execution_count": 19,
   "id": "929a9006",
   "metadata": {},
   "outputs": [
    {
     "data": {
      "text/plain": [
       "{'max_depth': 9, 'n_estimators': 50}"
      ]
     },
     "execution_count": 19,
     "metadata": {},
     "output_type": "execute_result"
    }
   ],
   "source": [
    "grid = GridSearchCV(rfc, parametrs, cv=5, n_jobs=-1, scoring='f1')\n",
    "grid.fit(features_train, target_train)\n",
    "grid.best_params_"
   ]
  },
  {
   "cell_type": "code",
   "execution_count": 20,
   "id": "6ede2b81",
   "metadata": {},
   "outputs": [],
   "source": [
    "rfc = RandomForestClassifier(random_state=12345, n_estimators=50, max_depth=9, class_weight='balanced').fit(features_train, target_train)"
   ]
  },
  {
   "cell_type": "code",
   "execution_count": 21,
   "id": "37e7c97e",
   "metadata": {},
   "outputs": [
    {
     "name": "stdout",
     "output_type": "stream",
     "text": [
      "0.8039345282065239\n"
     ]
    }
   ],
   "source": [
    "print(f1_score(target_test, rfc.predict(features_test)))"
   ]
  },
  {
   "cell_type": "markdown",
   "id": "0e8556f9",
   "metadata": {},
   "source": [
    "Дерево решений"
   ]
  },
  {
   "cell_type": "code",
   "execution_count": 22,
   "id": "ba71e4d9",
   "metadata": {},
   "outputs": [],
   "source": [
    "parametrs = { 'penalty': ['l2', 'l1'],\n",
    "              'alpha': [0.0001, 0.001, 0.01, 0.1, 1, 10, 100, 1000],\n",
    "              'power_t': [-1.0, -0.5, 0.0, 0.5, 1]}"
   ]
  },
  {
   "cell_type": "code",
   "execution_count": 23,
   "id": "823e9aef",
   "metadata": {},
   "outputs": [],
   "source": [
    "sgdc = SGDClassifier(random_state=12345, class_weight='balanced')"
   ]
  },
  {
   "cell_type": "code",
   "execution_count": 24,
   "id": "9d45afbb",
   "metadata": {},
   "outputs": [
    {
     "data": {
      "text/plain": [
       "{'alpha': 0.0001, 'penalty': 'l2', 'power_t': -1.0}"
      ]
     },
     "execution_count": 24,
     "metadata": {},
     "output_type": "execute_result"
    }
   ],
   "source": [
    "grid = GridSearchCV(sgdc, parametrs, cv=5, n_jobs=-1, scoring='f1')\n",
    "grid.fit(features_train, target_train)\n",
    "grid.best_params_"
   ]
  },
  {
   "cell_type": "code",
   "execution_count": 27,
   "id": "887f3dbf",
   "metadata": {},
   "outputs": [],
   "source": [
    "sgdc = SGDClassifier(random_state=12345, alpha = 0.0001, penalty = 'l2', power_t = -1.0, class_weight='balanced').fit(features_train, target_train)"
   ]
  },
  {
   "cell_type": "code",
   "execution_count": 28,
   "id": "6b41bc08",
   "metadata": {},
   "outputs": [
    {
     "name": "stdout",
     "output_type": "stream",
     "text": [
      "0.8802388059701493\n"
     ]
    }
   ],
   "source": [
    "print(f1_score(target_test, sgdc.predict(features_test)))"
   ]
  },
  {
   "cell_type": "markdown",
   "id": "13b3c59a",
   "metadata": {},
   "source": [
    "По полученным результатам логистичекая регрессия показал лучший результат по метрике f1_score = 0.878. Будем использовать эту модель машинного обучения"
   ]
  },
  {
   "cell_type": "code",
   "execution_count": 29,
   "id": "e763963d",
   "metadata": {},
   "outputs": [],
   "source": [
    "filename= 'sgdc_model.sav'\n",
    "saved_model=joblib.dump(sgdc,filename)"
   ]
  },
  {
   "cell_type": "markdown",
   "id": "0c6260c4",
   "metadata": {},
   "source": [
    "И сохраним обученный TfidfVectorizer для дальнейшего использования."
   ]
  },
  {
   "cell_type": "code",
   "execution_count": 48,
   "id": "2b88bd4e",
   "metadata": {},
   "outputs": [],
   "source": [
    "test_review = \"\"\"This is a pale imitation of 'Officer and a Gentleman.' There is NO chemistry between Kutcher and the unknown woman who plays his love interest. The dialog is wooden, the situations hackneyed. It's too long and the climax is anti-climactic(!). I love the USCG, its men and women are fearless and tough. The action scenes are awesome, but this movie doesn't do much for recruiting, I fear. The script is formulaic, but confusing. Kutcher's character is trying to redeem himself for an accident that wasn't his fault? Costner's is raging against the dying of the light, but why? His 'conflict' with his wife is about as deep as a mud puddle. I saw this sneak preview for free and certainly felt I got my money's worth.\n",
    "\"\"\""
   ]
  },
  {
   "cell_type": "code",
   "execution_count": 49,
   "id": "ba2e7c44",
   "metadata": {},
   "outputs": [
    {
     "name": "stdout",
     "output_type": "stream",
     "text": [
      "[0]\n"
     ]
    }
   ],
   "source": [
    "result = sgdc.predict(vect.transform([test_review]))\n",
    "print(result)"
   ]
  },
  {
   "cell_type": "code",
   "execution_count": 51,
   "id": "a2d4e3ba",
   "metadata": {},
   "outputs": [],
   "source": [
    "filename2= 'vectorizer.sav'\n",
    "saved_vect=joblib.dump(vect,filename2)"
   ]
  },
  {
   "cell_type": "code",
   "execution_count": null,
   "id": "9d54d863",
   "metadata": {},
   "outputs": [],
   "source": []
  }
 ],
 "metadata": {
  "kernelspec": {
   "display_name": "Python 3 (ipykernel)",
   "language": "python",
   "name": "python3"
  },
  "language_info": {
   "codemirror_mode": {
    "name": "ipython",
    "version": 3
   },
   "file_extension": ".py",
   "mimetype": "text/x-python",
   "name": "python",
   "nbconvert_exporter": "python",
   "pygments_lexer": "ipython3",
   "version": "3.9.20"
  }
 },
 "nbformat": 4,
 "nbformat_minor": 5
}
